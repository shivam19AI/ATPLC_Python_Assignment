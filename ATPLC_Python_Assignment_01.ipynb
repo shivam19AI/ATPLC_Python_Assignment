{
 "cells": [
  {
   "cell_type": "markdown",
   "id": "b417e905",
   "metadata": {},
   "source": [
    "### 01 Python Basics"
   ]
  },
  {
   "cell_type": "markdown",
   "id": "0a8695ac",
   "metadata": {},
   "source": [
    "### Q 1."
   ]
  },
  {
   "cell_type": "code",
   "execution_count": 1,
   "id": "33041555",
   "metadata": {},
   "outputs": [
    {
     "name": "stdout",
     "output_type": "stream",
     "text": [
      "enter the fname and lnameATPLC Python\n",
      "nohtyP CLPTA\n"
     ]
    }
   ],
   "source": [
    "name = input(\"enter the fname and lname\")\n",
    "name_rev = name[::-1]\n",
    "print(name_rev)"
   ]
  },
  {
   "cell_type": "markdown",
   "id": "b9170df8",
   "metadata": {},
   "source": [
    "### Q 2"
   ]
  },
  {
   "cell_type": "code",
   "execution_count": 3,
   "id": "a96366dd",
   "metadata": {},
   "outputs": [
    {
     "name": "stdout",
     "output_type": "stream",
     "text": [
      "enter the number4\n",
      "84\n"
     ]
    }
   ],
   "source": [
    "n = int(input(\"enter the number\"))\n",
    "value = n+n*n+n*n*n\n",
    "print(value)"
   ]
  },
  {
   "cell_type": "markdown",
   "id": "65eb42bc",
   "metadata": {},
   "source": [
    "### Q 3"
   ]
  },
  {
   "cell_type": "code",
   "execution_count": 10,
   "id": "745c1b2f",
   "metadata": {},
   "outputs": [
    {
     "name": "stdout",
     "output_type": "stream",
     "text": [
      "Name**is**james\n"
     ]
    }
   ],
   "source": [
    "string = \"Name**is**james\"\n",
    "print(string)"
   ]
  },
  {
   "cell_type": "markdown",
   "id": "6f627266",
   "metadata": {},
   "source": [
    "### Q 4"
   ]
  },
  {
   "cell_type": "code",
   "execution_count": 16,
   "id": "e29720ab",
   "metadata": {},
   "outputs": [
    {
     "name": "stdout",
     "output_type": "stream",
     "text": [
      "enter the float number4343.36564757\n",
      "4343.37\n"
     ]
    }
   ],
   "source": [
    "flt = float(input(\"enter the float number\"))\n",
    "flt_value = \"{:.2f}\".format(flt)\n",
    "print(flt_value)"
   ]
  },
  {
   "cell_type": "markdown",
   "id": "28105934",
   "metadata": {},
   "source": [
    "### Q 5"
   ]
  },
  {
   "cell_type": "code",
   "execution_count": 19,
   "id": "5ff6d140",
   "metadata": {},
   "outputs": [
    {
     "name": "stdout",
     "output_type": "stream",
     "text": [
      "enter the any three stringATPLC Python Learn\n",
      "ATPLC Python Learn\n"
     ]
    }
   ],
   "source": [
    "string = input(\"enter the any three string\")\n",
    "print(string)"
   ]
  },
  {
   "cell_type": "code",
   "execution_count": null,
   "id": "488d8934",
   "metadata": {},
   "outputs": [],
   "source": []
  }
 ],
 "metadata": {
  "kernelspec": {
   "display_name": "Python 3 (ipykernel)",
   "language": "python",
   "name": "python3"
  },
  "language_info": {
   "codemirror_mode": {
    "name": "ipython",
    "version": 3
   },
   "file_extension": ".py",
   "mimetype": "text/x-python",
   "name": "python",
   "nbconvert_exporter": "python",
   "pygments_lexer": "ipython3",
   "version": "3.9.12"
  }
 },
 "nbformat": 4,
 "nbformat_minor": 5
}
