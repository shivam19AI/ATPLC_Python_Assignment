{
 "cells": [
  {
   "cell_type": "markdown",
   "id": "bde5811a",
   "metadata": {},
   "source": [
    "### Python Conditionals"
   ]
  },
  {
   "cell_type": "markdown",
   "id": "ccd0d911",
   "metadata": {},
   "source": [
    "### Q 1"
   ]
  },
  {
   "cell_type": "code",
   "execution_count": 4,
   "id": "694a38c1",
   "metadata": {},
   "outputs": [
    {
     "name": "stdout",
     "output_type": "stream",
     "text": [
      "enter the any integer number27\n",
      "20\n"
     ]
    }
   ],
   "source": [
    "number = int(input(\"enter the any integer number\"))\n",
    "\n",
    "if number >17:\n",
    "    value = number - 17\n",
    "    final = 2*value\n",
    "    print(final)\n",
    "\n",
    "else:\n",
    "    print(number)"
   ]
  },
  {
   "cell_type": "markdown",
   "id": "c0f88e49",
   "metadata": {},
   "source": [
    "### Q 2"
   ]
  },
  {
   "cell_type": "code",
   "execution_count": 7,
   "id": "c5bb121c",
   "metadata": {},
   "outputs": [
    {
     "name": "stdout",
     "output_type": "stream",
     "text": [
      "enter the year 2000\n",
      "Leap Year : 2000\n"
     ]
    }
   ],
   "source": [
    "year = int(input(\"enter the year \"))\n",
    "\n",
    "if ((year%4==0 and year%100 !=0) or (year%400 == 0)):\n",
    "    print(\"Leap Year :\", year)\n",
    "else:\n",
    "    print(\"Not leap year\",year)"
   ]
  },
  {
   "cell_type": "markdown",
   "id": "3d9a037f",
   "metadata": {},
   "source": [
    "### Q 3"
   ]
  },
  {
   "cell_type": "code",
   "execution_count": 17,
   "id": "90119e3f",
   "metadata": {},
   "outputs": [
    {
     "name": "stdout",
     "output_type": "stream",
     "text": [
      "enter the first number :2\n",
      "enter the second number :3\n",
      "enter the third number :4\n",
      "9\n"
     ]
    }
   ],
   "source": [
    "n1 = int(input(\"enter the first number :\"))\n",
    "n2 = int(input(\"enter the second number :\"))\n",
    "n3 = int(input(\"enter the third number :\"))\n",
    "\n",
    "if ((n1!=n2) and (n2!=n3) and (n3!=n1)):\n",
    "    print(n1+n2+n3)\n",
    "else:\n",
    "    print(\"0\")\n"
   ]
  },
  {
   "cell_type": "markdown",
   "id": "03e2fffd",
   "metadata": {},
   "source": [
    "### Q 4"
   ]
  },
  {
   "cell_type": "code",
   "execution_count": 19,
   "id": "7184041a",
   "metadata": {},
   "outputs": [
    {
     "name": "stdout",
     "output_type": "stream",
     "text": [
      "months: January, February, March, April, May, June, July, August, September, October, November, December\n",
      "Input the name of Month: March\n",
      "No. of days: 31 day\n"
     ]
    }
   ],
   "source": [
    "print(\"months: January, February, March, April, May, June, July, August, September, October, November, December\")\n",
    "month_name = input(\"Input the name of Month: \")\n",
    "\n",
    "if month_name == \"February\":\n",
    "    print(\"No. of days: 28/29 days\")\n",
    "elif month_name in (\"April\", \"June\", \"September\", \"November\"):\n",
    "    print(\"No. of days: 30 days\")\n",
    "elif month_name in (\"January\", \"March\", \"May\", \"July\", \"August\", \"October\", \"December\"):\n",
    "    print(\"No. of days: 31 day\")\n",
    "else:\n",
    "    print(\"Wrong month name\") \n"
   ]
  },
  {
   "cell_type": "markdown",
   "id": "e7d89139",
   "metadata": {},
   "source": [
    "### Q 5."
   ]
  },
  {
   "cell_type": "code",
   "execution_count": 24,
   "id": "40c70092",
   "metadata": {},
   "outputs": [
    {
     "name": "stdout",
     "output_type": "stream",
     "text": [
      "enter the first side50\n",
      "enter the second side40\n",
      "enter the third side90\n",
      "triangle\n"
     ]
    }
   ],
   "source": [
    "s1 = int(input(\"enter the first side\"))\n",
    "s2 = int(input(\"enter the second side\"))\n",
    "s3 = int(input(\"enter the third side\"))\n",
    "\n",
    "if s1+s2+s3 == 180:\n",
    "    if (s1==s2 and s2==s3 and s3==s1):\n",
    "        print(\" equilateral triangle\")\n",
    "    elif (s1 ==s2 or s2 ==s3 or s3==s1):\n",
    "        print(\"isosceles triangle\")\n",
    "    else:\n",
    "        print(\"triangle\")\n",
    "        \n",
    "else:\n",
    "    print(\"not triangle\")"
   ]
  },
  {
   "cell_type": "code",
   "execution_count": null,
   "id": "3a207731",
   "metadata": {},
   "outputs": [],
   "source": []
  }
 ],
 "metadata": {
  "kernelspec": {
   "display_name": "Python 3 (ipykernel)",
   "language": "python",
   "name": "python3"
  },
  "language_info": {
   "codemirror_mode": {
    "name": "ipython",
    "version": 3
   },
   "file_extension": ".py",
   "mimetype": "text/x-python",
   "name": "python",
   "nbconvert_exporter": "python",
   "pygments_lexer": "ipython3",
   "version": "3.9.12"
  }
 },
 "nbformat": 4,
 "nbformat_minor": 5
}
