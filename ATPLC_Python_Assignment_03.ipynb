{
 "cells": [
  {
   "cell_type": "markdown",
   "id": "a2380560",
   "metadata": {},
   "source": [
    "### Python Lists"
   ]
  },
  {
   "cell_type": "markdown",
   "id": "7c6de61e",
   "metadata": {},
   "source": [
    "### Q1"
   ]
  },
  {
   "cell_type": "code",
   "execution_count": 36,
   "id": "41e98b1f",
   "metadata": {},
   "outputs": [
    {
     "name": "stdout",
     "output_type": "stream",
     "text": [
      "1\n"
     ]
    }
   ],
   "source": [
    "lst = [8,2,3,4,85,5,86,7,1,9,3]\n",
    "minm =lst[0]\n",
    "for i in lst:\n",
    "    if minm >=i:\n",
    "        minm = i\n",
    "    else:\n",
    "        pass\n",
    "print(minm)\n",
    "    "
   ]
  },
  {
   "cell_type": "markdown",
   "id": "3deb1292",
   "metadata": {},
   "source": [
    "### Q 2"
   ]
  },
  {
   "cell_type": "code",
   "execution_count": 37,
   "id": "ec2dd726",
   "metadata": {},
   "outputs": [
    {
     "name": "stdout",
     "output_type": "stream",
     "text": [
      "list is not empty\n"
     ]
    }
   ],
   "source": [
    "lst=[1,2,3,3+4j,'a','ATPLC',True,0,4.575]\n",
    "count = 0\n",
    "for i in lst:\n",
    "    if type(i)==int or type(i)==str or type(i)==bool or type(i)==float or type(i)==complex:\n",
    "        count = count +1\n",
    "    else:\n",
    "        pass\n",
    "    \n",
    "if count ==0:\n",
    "    print(\"list is empty\")\n",
    "else:\n",
    "    print(\"list is not empty\")"
   ]
  },
  {
   "cell_type": "code",
   "execution_count": 38,
   "id": "3673e665",
   "metadata": {},
   "outputs": [
    {
     "name": "stdout",
     "output_type": "stream",
     "text": [
      "list is empty\n"
     ]
    }
   ],
   "source": [
    "lst=[]\n",
    "count = 0\n",
    "for i in lst:\n",
    "    if type(i)==int or type(i)==str or type(i)==bool or type(i)==float or type(i)==complex:\n",
    "        count = count +1\n",
    "    else:\n",
    "        pass\n",
    "    \n",
    "if count ==0:\n",
    "    print(\"list is empty\")\n",
    "else:\n",
    "    print(\"list is not empty\")"
   ]
  },
  {
   "cell_type": "code",
   "execution_count": null,
   "id": "f193004c",
   "metadata": {},
   "outputs": [],
   "source": []
  },
  {
   "cell_type": "markdown",
   "id": "066fb3d7",
   "metadata": {},
   "source": [
    "### Q 3."
   ]
  },
  {
   "cell_type": "code",
   "execution_count": 39,
   "id": "9ab56833",
   "metadata": {},
   "outputs": [
    {
     "data": {
      "text/plain": [
       "'True'"
      ]
     },
     "execution_count": 39,
     "metadata": {},
     "output_type": "execute_result"
    }
   ],
   "source": [
    "def lst(lst1,lst2):\n",
    "    for i in lst1:\n",
    "        for j in lst2:\n",
    "            if(i==j):\n",
    "                return (\"True\")\n",
    "            \n",
    "\n",
    "                \n",
    "lst1 = [3,5,4,2,1]\n",
    "lst2 = [7,9,98,45,76,4]\n",
    "lst(lst1,lst2)\n",
    "    "
   ]
  },
  {
   "cell_type": "code",
   "execution_count": null,
   "id": "ff9d4c91",
   "metadata": {},
   "outputs": [],
   "source": []
  },
  {
   "cell_type": "markdown",
   "id": "0718717d",
   "metadata": {},
   "source": [
    "### Q 4."
   ]
  },
  {
   "cell_type": "code",
   "execution_count": 40,
   "id": "4feb4ca9",
   "metadata": {},
   "outputs": [
    {
     "data": {
      "text/plain": [
       "[1, 2, 3, 4, 5, 8, 12, 45]"
      ]
     },
     "execution_count": 40,
     "metadata": {},
     "output_type": "execute_result"
    }
   ],
   "source": [
    "lst1 = [1,2,3,4]\n",
    "lst2 = [5,8,12,45]\n",
    "for i in lst2:\n",
    "    lst1.append(i)\n",
    "\n",
    "lst1"
   ]
  },
  {
   "cell_type": "code",
   "execution_count": null,
   "id": "c5093c3b",
   "metadata": {},
   "outputs": [],
   "source": []
  },
  {
   "cell_type": "markdown",
   "id": "25129ab7",
   "metadata": {},
   "source": [
    "### Q 5."
   ]
  },
  {
   "cell_type": "code",
   "execution_count": 41,
   "id": "6ebbf974",
   "metadata": {},
   "outputs": [
    {
     "name": "stdout",
     "output_type": "stream",
     "text": [
      "[2, 3, 4, 7, 8, 9]\n"
     ]
    }
   ],
   "source": [
    "lst = []\n",
    "lst1 = [1,2,3,4,5,6,7,8,9]\n",
    "for i in range(len(lst1)):\n",
    "    if i not in ([0,4,5]):\n",
    "        lst.append(lst1[i])\n",
    "        \n",
    "print(lst)        "
   ]
  },
  {
   "cell_type": "code",
   "execution_count": null,
   "id": "58cc23a8",
   "metadata": {},
   "outputs": [],
   "source": []
  },
  {
   "cell_type": "markdown",
   "id": "cbd39f89",
   "metadata": {},
   "source": [
    "### Q 6."
   ]
  },
  {
   "cell_type": "code",
   "execution_count": 35,
   "id": "9e1702c6",
   "metadata": {},
   "outputs": [
    {
     "name": "stdout",
     "output_type": "stream",
     "text": [
      "enter the integer value : 1\n",
      "enter the integer value : 2\n",
      "enter the integer value : 3\n",
      "enter the integer value : 4\n",
      "enter the integer value : 5\n",
      "enter the integer value : 6\n",
      "enter the integer value : 7\n",
      "enter the integer value : 8\n",
      "enter the integer value : 9\n",
      "enter the integer value : 13\n",
      "[[13, 9, 8, 7, 6, 5, 4, 3, 2, 1]]\n"
     ]
    }
   ],
   "source": [
    "lst=[]\n",
    "for i in range(10):\n",
    "    lst.append(int(input(\"enter the integer value : \")))\n",
    "\n",
    "lst1 =[]\n",
    "lst.reverse()\n",
    "lst1.append(lst)\n",
    "print(lst1)\n",
    "\n"
   ]
  },
  {
   "cell_type": "code",
   "execution_count": null,
   "id": "49dcf219",
   "metadata": {},
   "outputs": [],
   "source": []
  }
 ],
 "metadata": {
  "kernelspec": {
   "display_name": "Python 3 (ipykernel)",
   "language": "python",
   "name": "python3"
  },
  "language_info": {
   "codemirror_mode": {
    "name": "ipython",
    "version": 3
   },
   "file_extension": ".py",
   "mimetype": "text/x-python",
   "name": "python",
   "nbconvert_exporter": "python",
   "pygments_lexer": "ipython3",
   "version": "3.9.12"
  }
 },
 "nbformat": 4,
 "nbformat_minor": 5
}
